{
  "nbformat": 4,
  "nbformat_minor": 0,
  "metadata": {
    "colab": {
      "name": "FaceCrop.ipynb",
      "version": "0.3.2",
      "provenance": [],
      "collapsed_sections": [],
      "toc_visible": true,
      "include_colab_link": true
    },
    "kernelspec": {
      "name": "python3",
      "display_name": "Python 3"
    }
  },
  "cells": [
    {
      "cell_type": "markdown",
      "metadata": {
        "id": "view-in-github",
        "colab_type": "text"
      },
      "source": [
        "<a href=\"https://colab.research.google.com/github/alonlavian/AlmaZohar/blob/master/FaceCrop.ipynb\" target=\"_parent\"><img src=\"https://colab.research.google.com/assets/colab-badge.svg\" alt=\"Open In Colab\"/></a>"
      ]
    },
    {
      "metadata": {
        "id": "J7awmoAQ_6uU",
        "colab_type": "text"
      },
      "cell_type": "markdown",
      "source": [
        "# Trying to enlarge my data set using Google vision API\n",
        "\n",
        "For the following to work you'll have to setup:\n",
        "*   service account credentials - https://cloud.google.com/docs/authentication/production#obtaining_and_providing_service_account_credentials_manually\n",
        "*   google billing  - https://support.google.com/googleapi/answer/6158867?hl=en\n",
        "\n"
      ]
    },
    {
      "metadata": {
        "id": "MPbswIVOCO2d",
        "colab_type": "text"
      },
      "cell_type": "markdown",
      "source": [
        "\n",
        "1.   Install google cloud vision"
      ]
    },
    {
      "metadata": {
        "id": "xIuL863VBi9g",
        "colab_type": "code",
        "outputId": "f443bd49-07ce-4df7-b0d8-21d7f871fa8c",
        "colab": {
          "base_uri": "https://localhost:8080/",
          "height": 496
        }
      },
      "cell_type": "code",
      "source": [
        "!pip install --upgrade google-cloud-vision\n"
      ],
      "execution_count": 7,
      "outputs": [
        {
          "output_type": "stream",
          "text": [
            "Collecting google-cloud-vision\n",
            "\u001b[?25l  Downloading https://files.pythonhosted.org/packages/f2/bf/112a0707a425961516693ac526725bc3f51db44fc3d02998da3ee2b82ef1/google_cloud_vision-0.36.0-py2.py3-none-any.whl (383kB)\n",
            "\u001b[K    100% |████████████████████████████████| 389kB 25.5MB/s \n",
            "\u001b[?25hRequirement already satisfied, skipping upgrade: google-api-core[grpc]<2.0.0dev,>=1.6.0 in /usr/local/lib/python3.6/dist-packages (from google-cloud-vision) (1.9.0)\n",
            "Requirement already satisfied, skipping upgrade: pytz in /usr/local/lib/python3.6/dist-packages (from google-api-core[grpc]<2.0.0dev,>=1.6.0->google-cloud-vision) (2018.9)\n",
            "Requirement already satisfied, skipping upgrade: protobuf>=3.4.0 in /usr/local/lib/python3.6/dist-packages (from google-api-core[grpc]<2.0.0dev,>=1.6.0->google-cloud-vision) (3.7.1)\n",
            "Requirement already satisfied, skipping upgrade: requests<3.0.0dev,>=2.18.0 in /usr/local/lib/python3.6/dist-packages (from google-api-core[grpc]<2.0.0dev,>=1.6.0->google-cloud-vision) (2.18.4)\n",
            "Requirement already satisfied, skipping upgrade: setuptools>=34.0.0 in /usr/local/lib/python3.6/dist-packages (from google-api-core[grpc]<2.0.0dev,>=1.6.0->google-cloud-vision) (40.9.0)\n",
            "Requirement already satisfied, skipping upgrade: googleapis-common-protos!=1.5.4,<2.0dev,>=1.5.3 in /usr/local/lib/python3.6/dist-packages (from google-api-core[grpc]<2.0.0dev,>=1.6.0->google-cloud-vision) (1.5.9)\n",
            "Requirement already satisfied, skipping upgrade: six>=1.10.0 in /usr/local/lib/python3.6/dist-packages (from google-api-core[grpc]<2.0.0dev,>=1.6.0->google-cloud-vision) (1.11.0)\n",
            "Requirement already satisfied, skipping upgrade: google-auth<2.0dev,>=0.4.0 in /usr/local/lib/python3.6/dist-packages (from google-api-core[grpc]<2.0.0dev,>=1.6.0->google-cloud-vision) (1.4.2)\n",
            "Requirement already satisfied, skipping upgrade: grpcio>=1.8.2; extra == \"grpc\" in /usr/local/lib/python3.6/dist-packages (from google-api-core[grpc]<2.0.0dev,>=1.6.0->google-cloud-vision) (1.15.0)\n",
            "Requirement already satisfied, skipping upgrade: certifi>=2017.4.17 in /usr/local/lib/python3.6/dist-packages (from requests<3.0.0dev,>=2.18.0->google-api-core[grpc]<2.0.0dev,>=1.6.0->google-cloud-vision) (2019.3.9)\n",
            "Requirement already satisfied, skipping upgrade: urllib3<1.23,>=1.21.1 in /usr/local/lib/python3.6/dist-packages (from requests<3.0.0dev,>=2.18.0->google-api-core[grpc]<2.0.0dev,>=1.6.0->google-cloud-vision) (1.22)\n",
            "Requirement already satisfied, skipping upgrade: idna<2.7,>=2.5 in /usr/local/lib/python3.6/dist-packages (from requests<3.0.0dev,>=2.18.0->google-api-core[grpc]<2.0.0dev,>=1.6.0->google-cloud-vision) (2.6)\n",
            "Requirement already satisfied, skipping upgrade: chardet<3.1.0,>=3.0.2 in /usr/local/lib/python3.6/dist-packages (from requests<3.0.0dev,>=2.18.0->google-api-core[grpc]<2.0.0dev,>=1.6.0->google-cloud-vision) (3.0.4)\n",
            "Requirement already satisfied, skipping upgrade: cachetools>=2.0.0 in /usr/local/lib/python3.6/dist-packages (from google-auth<2.0dev,>=0.4.0->google-api-core[grpc]<2.0.0dev,>=1.6.0->google-cloud-vision) (3.1.0)\n",
            "Requirement already satisfied, skipping upgrade: rsa>=3.1.4 in /usr/local/lib/python3.6/dist-packages (from google-auth<2.0dev,>=0.4.0->google-api-core[grpc]<2.0.0dev,>=1.6.0->google-cloud-vision) (4.0)\n",
            "Requirement already satisfied, skipping upgrade: pyasn1-modules>=0.2.1 in /usr/local/lib/python3.6/dist-packages (from google-auth<2.0dev,>=0.4.0->google-api-core[grpc]<2.0.0dev,>=1.6.0->google-cloud-vision) (0.2.4)\n",
            "Requirement already satisfied, skipping upgrade: pyasn1>=0.1.3 in /usr/local/lib/python3.6/dist-packages (from rsa>=3.1.4->google-auth<2.0dev,>=0.4.0->google-api-core[grpc]<2.0.0dev,>=1.6.0->google-cloud-vision) (0.4.5)\n",
            "Installing collected packages: google-cloud-vision\n",
            "Successfully installed google-cloud-vision-0.36.0\n"
          ],
          "name": "stdout"
        },
        {
          "output_type": "display_data",
          "data": {
            "application/vnd.colab-display-data+json": {
              "pip_warning": {
                "packages": [
                  "google"
                ]
              }
            }
          },
          "metadata": {
            "tags": []
          }
        }
      ]
    },
    {
      "metadata": {
        "id": "CClFk8LYCSrc",
        "colab_type": "text"
      },
      "cell_type": "markdown",
      "source": [
        "\n",
        "2.   Mount Drive"
      ]
    },
    {
      "metadata": {
        "id": "v5eDbzVMCU4t",
        "colab_type": "code",
        "outputId": "ec2eaf79-78bc-4e97-df1e-9943a07f8c7f",
        "colab": {
          "base_uri": "https://localhost:8080/",
          "height": 122
        }
      },
      "cell_type": "code",
      "source": [
        "import os \n",
        "from google.colab import drive\n",
        "drive.mount('/content/drive/')"
      ],
      "execution_count": 5,
      "outputs": [
        {
          "output_type": "stream",
          "text": [
            "Go to this URL in a browser: https://accounts.google.com/o/oauth2/auth?client_id=947318989803-6bn6qk8qdgf4n4g3pfee6491hc0brc4i.apps.googleusercontent.com&redirect_uri=urn%3Aietf%3Awg%3Aoauth%3A2.0%3Aoob&scope=email%20https%3A%2F%2Fwww.googleapis.com%2Fauth%2Fdocs.test%20https%3A%2F%2Fwww.googleapis.com%2Fauth%2Fdrive%20https%3A%2F%2Fwww.googleapis.com%2Fauth%2Fdrive.photos.readonly%20https%3A%2F%2Fwww.googleapis.com%2Fauth%2Fpeopleapi.readonly&response_type=code\n",
            "\n",
            "Enter your authorization code:\n",
            "··········\n",
            "Mounted at /content/drive/\n"
          ],
          "name": "stdout"
        }
      ]
    },
    {
      "metadata": {
        "id": "FBn05nzxevPE",
        "colab_type": "text"
      },
      "cell_type": "markdown",
      "source": [
        "3. Add vision application credentilas to env.\n",
        "\n",
        "    https://cloud.google.com/docs/authentication/production#obtaining_and_providing_service_account_credentials_manually"
      ]
    },
    {
      "metadata": {
        "id": "v6Mjv6dC3VHH",
        "colab_type": "code",
        "colab": {}
      },
      "cell_type": "code",
      "source": [
        "import os\n",
        "os.environ[\"GOOGLE_APPLICATION_CREDENTIALS\"]=\"/content/drive/My Drive/ML/Misc/vision_service_account.json\""
      ],
      "execution_count": 0,
      "outputs": []
    },
    {
      "metadata": {
        "id": "gRS1X57mfGhU",
        "colab_type": "text"
      },
      "cell_type": "markdown",
      "source": [
        "4. Cropping code\n",
        "    https://cloud.google.com/vision/docs/crop-hints\n"
      ]
    },
    {
      "metadata": {
        "id": "OQr9SurpALbX",
        "colab_type": "code",
        "colab": {}
      },
      "cell_type": "code",
      "source": [
        "import argparse\n",
        "import io\n",
        "\n",
        "from google.auth import compute_engine\n",
        "from google.cloud import vision\n",
        "from google.cloud.vision import types\n",
        "from PIL import Image, ImageDraw\n",
        "\n",
        "\n",
        "def get_crop_hint(path):\n",
        "    \"\"\"Detect crop hints on a single image and return the first result.\"\"\"\n",
        "    client = vision.ImageAnnotatorClient()\n",
        "\n",
        "    with io.open(path, 'rb') as image_file:\n",
        "        content = image_file.read()\n",
        "\n",
        "    image = types.Image(content=content)\n",
        "\n",
        "    crop_hints_params = types.CropHintsParams(aspect_ratios=[1.77])\n",
        "    image_context = types.ImageContext(crop_hints_params=crop_hints_params)\n",
        "\n",
        "    response = client.crop_hints(image=image, image_context=image_context)\n",
        "    hints = response.crop_hints_annotation.crop_hints\n",
        "\n",
        "    # Get bounds for the first crop hint using an aspect ratio of 1.77.\n",
        "    vertices = hints[0].bounding_poly.vertices\n",
        "\n",
        "    return vertices\n",
        "\n",
        "\n",
        "# def draw_hint(image_file):\n",
        "#     \"\"\"Draw a border around the image using the hints in the vector list.\"\"\"\n",
        "#     vects = get_crop_hint(image_file)\n",
        "\n",
        "#     im = Image.open(image_file)\n",
        "#     draw = ImageDraw.Draw(im)\n",
        "#     draw.polygon([\n",
        "#         vects[0].x, vects[0].y,\n",
        "#         vects[1].x, vects[1].y,\n",
        "#         vects[2].x, vects[2].y,\n",
        "#         vects[3].x, vects[3].y], None, 'red')\n",
        "#     im.save('output-hint.jpg', 'JPEG')\n",
        "#     print('Saved new image to output-crop.jpg')\n",
        "\n",
        "#         crop(path,filename, cropped_photos_dir)\n",
        "\n",
        "def crop_to_hint(path,filename, cropped_photos_dir):\n",
        "    \"\"\"Crop the image using the hints in the vector list.\"\"\"\n",
        "    image_file = os.path.join(path,os.fsencode(filename))\n",
        "    vects = get_crop_hint(image_file)\n",
        "\n",
        "    im = Image.open(image_file)\n",
        "    im2 = im.crop([vects[0].x, vects[0].y,\n",
        "                  vects[2].x - 1, vects[2].y - 1])\n",
        "    \n",
        "    cropped_image_name = \"cropped_\" + filename\n",
        "    cropped_image_path = os.path.join(cropped_photos_dir,os.fsencode(cropped_image_name))\n",
        "    im2.save(cropped_image_path, 'JPEG')\n",
        "    print('Saved new image to output-crop.jpg')\n",
        "\n",
        "\n",
        "# if __name__ == '__main__':\n",
        "#     parser = argparse.ArgumentParser()\n",
        "#     parser.add_argument('image_file', help='The image you\\'d like to crop.')\n",
        "#     parser.add_argument('mode', help='Set to \"crop\" or \"draw\".')\n",
        "#     args = parser.parse_args()\n",
        "\n",
        "#     parser = argparse.ArgumentParser()\n",
        "\n",
        "#     if args.mode == 'crop':\n",
        "#         crop_to_hint(args.image_file)\n",
        "#     elif args.mode == 'draw':\n",
        "#         draw_hint(args.image_file)"
      ],
      "execution_count": 0,
      "outputs": []
    },
    {
      "metadata": {
        "id": "UojDqQjnCn9e",
        "colab_type": "text"
      },
      "cell_type": "markdown",
      "source": [
        "Try to crop"
      ]
    },
    {
      "metadata": {
        "id": "LMUPlFeUCpxx",
        "colab_type": "code",
        "outputId": "dd8c4b26-dc76-4d5f-c07c-5db5b6bc4e03",
        "colab": {
          "base_uri": "https://localhost:8080/",
          "height": 34
        }
      },
      "cell_type": "code",
      "source": [
        "\n",
        "\n",
        "\n",
        "\n",
        "crop_to_hint('/content/drive/My Drive/Google Photos/2019/04/IMG_20190402_075133.jpg')"
      ],
      "execution_count": 0,
      "outputs": [
        {
          "output_type": "stream",
          "text": [
            "Saved new image to output-crop.jpg\n"
          ],
          "name": "stdout"
        }
      ]
    },
    {
      "metadata": {
        "id": "fmSFQ3N66Bry",
        "colab_type": "code",
        "outputId": "bdf2c680-14e1-438c-e641-64b85203300e",
        "colab": {
          "base_uri": "https://localhost:8080/",
          "height": 153
        }
      },
      "cell_type": "code",
      "source": [
        "import random,os\n",
        "\n",
        "original_photos_dir = os.fsencode('/content/drive/My Drive/Google Photos/2019')\n",
        "cropped_photos_dir  = os.fsencode('/content/drive/My Drive/ML/AlmaZoharCrop/CropMix')\n",
        "if not os.path.exists(cropped_photos_dir):\n",
        "    os.makedirs(cropped_photos_dir)\n",
        "    \n",
        "    \n",
        "for path, dirs, files in os.walk(original_photos_dir):\n",
        "  if files:\n",
        "    rand_files = (random.sample(files,1))\n",
        "    for file in rand_files:\n",
        "      filename = os.fsdecode(file)\n",
        "      if filename.endswith(\".jpg\"):\n",
        "#         image_to_crop = os.path.join(path,file_to_crop)\n",
        "        print(\"Cropping \", filename)\n",
        "        crop_to_hint(path,filename, cropped_photos_dir)\n",
        "        "
      ],
      "execution_count": 0,
      "outputs": [
        {
          "output_type": "stream",
          "text": [
            "Cropping  IMG_20190131_175203.jpg\n",
            "Saved new image to output-crop.jpg\n",
            "Cropping  IMG_20190208_132441.jpg\n",
            "Saved new image to output-crop.jpg\n",
            "Cropping  IMG_20190322_125150.jpg\n",
            "Saved new image to output-crop.jpg\n",
            "Cropping  IMG_20190409_130236.jpg\n",
            "Saved new image to output-crop.jpg\n"
          ],
          "name": "stdout"
        }
      ]
    },
    {
      "metadata": {
        "id": "DkcwGeSonVo6",
        "colab_type": "text"
      },
      "cell_type": "markdown",
      "source": [
        "Detecting the faces\n",
        "https://cloud.google.com/vision/docs/detecting-faces"
      ]
    },
    {
      "metadata": {
        "id": "gYGE1-7ukvOo",
        "colab_type": "code",
        "colab": {
          "base_uri": "https://localhost:8080/",
          "height": 5491
        },
        "outputId": "f153a344-3451-45d7-e35e-b6388cef1f04"
      },
      "cell_type": "code",
      "source": [
        "def detect_face(face_file, max_results=4):\n",
        "    \"\"\"Uses the Vision API to detect faces in the given file.\n",
        "\n",
        "    Args:\n",
        "        face_file: A file-like object containing an image with faces.\n",
        "\n",
        "    Returns:\n",
        "        An array of Face objects with information about the picture.\n",
        "    \"\"\"\n",
        "    client = vision.ImageAnnotatorClient()\n",
        "\n",
        "    content = face_file.read()\n",
        "    image = types.Image(content=content)\n",
        "\n",
        "    return client.face_detection(image=image, max_results=max_results).face_annotations\n",
        "  \n",
        "  \n",
        "  \n",
        "  \n",
        "  \n",
        "with open('IMG_20190218_061506.jpg', 'rb') as image:\n",
        "        faces = detect_face(image, 2)\n",
        "        print('Found {} face{}'.format(\n",
        "            len(faces), '' if len(faces) == 1 else 's'))\n",
        "      \n",
        "print(faces)\n",
        "  \n"
      ],
      "execution_count": 10,
      "outputs": [
        {
          "output_type": "stream",
          "text": [
            "Found 1 face\n",
            "[bounding_poly {\n",
            "  vertices {\n",
            "    x: 891\n",
            "    y: 561\n",
            "  }\n",
            "  vertices {\n",
            "    x: 1280\n",
            "    y: 561\n",
            "  }\n",
            "  vertices {\n",
            "    x: 1280\n",
            "    y: 1012\n",
            "  }\n",
            "  vertices {\n",
            "    x: 891\n",
            "    y: 1012\n",
            "  }\n",
            "}\n",
            "fd_bounding_poly {\n",
            "  vertices {\n",
            "    x: 953\n",
            "    y: 680\n",
            "  }\n",
            "  vertices {\n",
            "    x: 1230\n",
            "    y: 680\n",
            "  }\n",
            "  vertices {\n",
            "    x: 1230\n",
            "    y: 957\n",
            "  }\n",
            "  vertices {\n",
            "    x: 953\n",
            "    y: 957\n",
            "  }\n",
            "}\n",
            "landmarks {\n",
            "  type: LEFT_EYE\n",
            "  position {\n",
            "    x: 1019.197265625\n",
            "    y: 765.2638549804688\n",
            "    z: -0.001612532534636557\n",
            "  }\n",
            "}\n",
            "landmarks {\n",
            "  type: RIGHT_EYE\n",
            "  position {\n",
            "    x: 1143.3802490234375\n",
            "    y: 768.7728881835938\n",
            "    z: -8.067333221435547\n",
            "  }\n",
            "}\n",
            "landmarks {\n",
            "  type: LEFT_OF_LEFT_EYEBROW\n",
            "  position {\n",
            "    x: 984.7256469726562\n",
            "    y: 735.4658813476562\n",
            "    z: 13.025546073913574\n",
            "  }\n",
            "}\n",
            "landmarks {\n",
            "  type: RIGHT_OF_LEFT_EYEBROW\n",
            "  position {\n",
            "    x: 1052.4207763671875\n",
            "    y: 738.0965576171875\n",
            "    z: -25.593000411987305\n",
            "  }\n",
            "}\n",
            "landmarks {\n",
            "  type: LEFT_OF_RIGHT_EYEBROW\n",
            "  position {\n",
            "    x: 1109.29150390625\n",
            "    y: 740.6908569335938\n",
            "    z: -29.315587997436523\n",
            "  }\n",
            "}\n",
            "landmarks {\n",
            "  type: RIGHT_OF_RIGHT_EYEBROW\n",
            "  position {\n",
            "    x: 1181.343505859375\n",
            "    y: 744.112060546875\n",
            "    z: 0.017850937321782112\n",
            "  }\n",
            "}\n",
            "landmarks {\n",
            "  type: MIDPOINT_BETWEEN_EYES\n",
            "  position {\n",
            "    x: 1079.76220703125\n",
            "    y: 764.9191284179688\n",
            "    z: -28.651912689208984\n",
            "  }\n",
            "}\n",
            "landmarks {\n",
            "  type: NOSE_TIP\n",
            "  position {\n",
            "    x: 1075.038330078125\n",
            "    y: 830.8190307617188\n",
            "    z: -61.61380386352539\n",
            "  }\n",
            "}\n",
            "landmarks {\n",
            "  type: UPPER_LIP\n",
            "  position {\n",
            "    x: 1073.4197998046875\n",
            "    y: 874.6116333007812\n",
            "    z: -33.52120590209961\n",
            "  }\n",
            "}\n",
            "landmarks {\n",
            "  type: LOWER_LIP\n",
            "  position {\n",
            "    x: 1072.681884765625\n",
            "    y: 917.1829833984375\n",
            "    z: -23.91614532470703\n",
            "  }\n",
            "}\n",
            "landmarks {\n",
            "  type: MOUTH_LEFT\n",
            "  position {\n",
            "    x: 1032.439208984375\n",
            "    y: 886.4041748046875\n",
            "    z: 0.9628662467002869\n",
            "  }\n",
            "}\n",
            "landmarks {\n",
            "  type: MOUTH_RIGHT\n",
            "  position {\n",
            "    x: 1117.603271484375\n",
            "    y: 892.8319702148438\n",
            "    z: -5.579179763793945\n",
            "  }\n",
            "}\n",
            "landmarks {\n",
            "  type: MOUTH_CENTER\n",
            "  position {\n",
            "    x: 1073.6650390625\n",
            "    y: 892.393798828125\n",
            "    z: -24.413921356201172\n",
            "  }\n",
            "}\n",
            "landmarks {\n",
            "  type: NOSE_BOTTOM_RIGHT\n",
            "  position {\n",
            "    x: 1106.3177490234375\n",
            "    y: 842.8675537109375\n",
            "    z: -19.032047271728516\n",
            "  }\n",
            "}\n",
            "landmarks {\n",
            "  type: NOSE_BOTTOM_LEFT\n",
            "  position {\n",
            "    x: 1046.2998046875\n",
            "    y: 838.9522705078125\n",
            "    z: -14.61025619506836\n",
            "  }\n",
            "}\n",
            "landmarks {\n",
            "  type: NOSE_BOTTOM_CENTER\n",
            "  position {\n",
            "    x: 1075.8758544921875\n",
            "    y: 847.3961791992188\n",
            "    z: -34.509456634521484\n",
            "  }\n",
            "}\n",
            "landmarks {\n",
            "  type: LEFT_EYE_TOP_BOUNDARY\n",
            "  position {\n",
            "    x: 1022.3080444335938\n",
            "    y: 756.6324462890625\n",
            "    z: -8.264385223388672\n",
            "  }\n",
            "}\n",
            "landmarks {\n",
            "  type: LEFT_EYE_RIGHT_CORNER\n",
            "  position {\n",
            "    x: 1043.57080078125\n",
            "    y: 766.8309936523438\n",
            "    z: -1.0322993993759155\n",
            "  }\n",
            "}\n",
            "landmarks {\n",
            "  type: LEFT_EYE_BOTTOM_BOUNDARY\n",
            "  position {\n",
            "    x: 1018.157958984375\n",
            "    y: 774.5286254882812\n",
            "    z: -0.7372509837150574\n",
            "  }\n",
            "}\n",
            "landmarks {\n",
            "  type: LEFT_EYE_LEFT_CORNER\n",
            "  position {\n",
            "    x: 998.6604614257812\n",
            "    y: 763.9462280273438\n",
            "    z: 12.561179161071777\n",
            "  }\n",
            "}\n",
            "landmarks {\n",
            "  type: LEFT_EYE_PUPIL\n",
            "  position {\n",
            "    x: 1020.536376953125\n",
            "    y: 764.5347900390625\n",
            "    z: -2.9142613410949707\n",
            "  }\n",
            "}\n",
            "landmarks {\n",
            "  type: RIGHT_EYE_TOP_BOUNDARY\n",
            "  position {\n",
            "    x: 1139.5968017578125\n",
            "    y: 761.8748168945312\n",
            "    z: -15.98938274383545\n",
            "  }\n",
            "}\n",
            "landmarks {\n",
            "  type: RIGHT_EYE_RIGHT_CORNER\n",
            "  position {\n",
            "    x: 1163.84326171875\n",
            "    y: 770.7554321289062\n",
            "    z: 1.3638012409210205\n",
            "  }\n",
            "}\n",
            "landmarks {\n",
            "  type: RIGHT_EYE_BOTTOM_BOUNDARY\n",
            "  position {\n",
            "    x: 1143.409423828125\n",
            "    y: 779.1307983398438\n",
            "    z: -8.60221004486084\n",
            "  }\n",
            "}\n",
            "landmarks {\n",
            "  type: RIGHT_EYE_LEFT_CORNER\n",
            "  position {\n",
            "    x: 1123.5889892578125\n",
            "    y: 767.329833984375\n",
            "    z: -5.735964775085449\n",
            "  }\n",
            "}\n",
            "landmarks {\n",
            "  type: RIGHT_EYE_PUPIL\n",
            "  position {\n",
            "    x: 1140.7801513671875\n",
            "    y: 769.9150390625\n",
            "    z: -10.919849395751953\n",
            "  }\n",
            "}\n",
            "landmarks {\n",
            "  type: LEFT_EYEBROW_UPPER_MIDPOINT\n",
            "  position {\n",
            "    x: 1018.541259765625\n",
            "    y: 722.3135375976562\n",
            "    z: -14.387349128723145\n",
            "  }\n",
            "}\n",
            "landmarks {\n",
            "  type: RIGHT_EYEBROW_UPPER_MIDPOINT\n",
            "  position {\n",
            "    x: 1145.5023193359375\n",
            "    y: 728.0692138671875\n",
            "    z: -22.793107986450195\n",
            "  }\n",
            "}\n",
            "landmarks {\n",
            "  type: LEFT_EAR_TRAGION\n",
            "  position {\n",
            "    x: 955.4727172851562\n",
            "    y: 816.3290405273438\n",
            "    z: 150.50753784179688\n",
            "  }\n",
            "}\n",
            "landmarks {\n",
            "  type: RIGHT_EAR_TRAGION\n",
            "  position {\n",
            "    x: 1221.2718505859375\n",
            "    y: 827.9708251953125\n",
            "    z: 132.91000366210938\n",
            "  }\n",
            "}\n",
            "landmarks {\n",
            "  type: FOREHEAD_GLABELLA\n",
            "  position {\n",
            "    x: 1080.5794677734375\n",
            "    y: 738.0313720703125\n",
            "    z: -31.903446197509766\n",
            "  }\n",
            "}\n",
            "landmarks {\n",
            "  type: CHIN_GNATHION\n",
            "  position {\n",
            "    x: 1071.967041015625\n",
            "    y: 966.7493896484375\n",
            "    z: -6.4251708984375\n",
            "  }\n",
            "}\n",
            "landmarks {\n",
            "  type: CHIN_LEFT_GONION\n",
            "  position {\n",
            "    x: 961.9287109375\n",
            "    y: 892.8153076171875\n",
            "    z: 103.40274810791016\n",
            "  }\n",
            "}\n",
            "landmarks {\n",
            "  type: CHIN_RIGHT_GONION\n",
            "  position {\n",
            "    x: 1201.8988037109375\n",
            "    y: 903.6268310546875\n",
            "    z: 87.52566528320312\n",
            "  }\n",
            "}\n",
            "roll_angle: 2.497037649154663\n",
            "pan_angle: -3.7795019149780273\n",
            "tilt_angle: -1.080298900604248\n",
            "detection_confidence: 0.9716417789459229\n",
            "landmarking_confidence: 0.6913437247276306\n",
            "joy_likelihood: VERY_UNLIKELY\n",
            "sorrow_likelihood: VERY_UNLIKELY\n",
            "anger_likelihood: VERY_UNLIKELY\n",
            "surprise_likelihood: VERY_UNLIKELY\n",
            "under_exposed_likelihood: VERY_UNLIKELY\n",
            "blurred_likelihood: VERY_UNLIKELY\n",
            "headwear_likelihood: VERY_UNLIKELY\n",
            "]\n"
          ],
          "name": "stdout"
        }
      ]
    }
  ]
}