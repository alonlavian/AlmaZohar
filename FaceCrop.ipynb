{
  "nbformat": 4,
  "nbformat_minor": 0,
  "metadata": {
    "colab": {
      "name": "FaceCrop.ipynb",
      "version": "0.3.2",
      "provenance": [],
      "collapsed_sections": [],
      "include_colab_link": true
    },
    "kernelspec": {
      "name": "python3",
      "display_name": "Python 3"
    }
  },
  "cells": [
    {
      "cell_type": "markdown",
      "metadata": {
        "id": "view-in-github",
        "colab_type": "text"
      },
      "source": [
        "<a href=\"https://colab.research.google.com/github/alonlavian/AlmaZohar/blob/master/FaceCrop.ipynb\" target=\"_parent\"><img src=\"https://colab.research.google.com/assets/colab-badge.svg\" alt=\"Open In Colab\"/></a>"
      ]
    },
    {
      "metadata": {
        "id": "J7awmoAQ_6uU",
        "colab_type": "text"
      },
      "cell_type": "markdown",
      "source": [
        "# Trying to enlarge my data set using Google vision API\n",
        "\n",
        "For the following to work you'll have to setup:\n",
        "*   service account credentials - https://cloud.google.com/docs/authentication/production#obtaining_and_providing_service_account_credentials_manually\n",
        "*   google billing  - https://support.google.com/googleapi/answer/6158867?hl=en\n",
        "\n"
      ]
    },
    {
      "metadata": {
        "id": "MPbswIVOCO2d",
        "colab_type": "text"
      },
      "cell_type": "markdown",
      "source": [
        "###  Install google cloud vision"
      ]
    },
    {
      "metadata": {
        "id": "xIuL863VBi9g",
        "colab_type": "code",
        "colab": {}
      },
      "cell_type": "code",
      "source": [
        "!pip install --upgrade google-cloud-vision\n"
      ],
      "execution_count": 0,
      "outputs": []
    },
    {
      "metadata": {
        "id": "CClFk8LYCSrc",
        "colab_type": "text"
      },
      "cell_type": "markdown",
      "source": [
        "\n",
        "### Mount Drive"
      ]
    },
    {
      "metadata": {
        "id": "v5eDbzVMCU4t",
        "colab_type": "code",
        "colab": {}
      },
      "cell_type": "code",
      "source": [
        "import os \n",
        "from google.colab import drive\n",
        "drive.mount('/content/drive/')"
      ],
      "execution_count": 0,
      "outputs": []
    },
    {
      "metadata": {
        "id": "FBn05nzxevPE",
        "colab_type": "text"
      },
      "cell_type": "markdown",
      "source": [
        "### Add vision application credentilas to env."
      ]
    },
    {
      "metadata": {
        "id": "v6Mjv6dC3VHH",
        "colab_type": "code",
        "colab": {}
      },
      "cell_type": "code",
      "source": [
        "import os\n",
        "os.environ[\"GOOGLE_APPLICATION_CREDENTIALS\"]=\"/content/drive/My Drive/ML/Misc/vision_service_account.json\""
      ],
      "execution_count": 0,
      "outputs": []
    },
    {
      "metadata": {
        "id": "gRS1X57mfGhU",
        "colab_type": "text"
      },
      "cell_type": "markdown",
      "source": [
        "### Cropping code"
      ]
    },
    {
      "metadata": {
        "id": "fmSFQ3N66Bry",
        "colab_type": "code",
        "colab": {}
      },
      "cell_type": "code",
      "source": [
        "# https://cloud.google.com/vision/docs/face-tutorial\n",
        "# https://cloud.google.com/vision/docs/crop-hints\n",
        "\n",
        "import os\n",
        "from google.cloud import vision\n",
        "from google.cloud.vision import types\n",
        "from PIL import Image\n",
        "\n",
        "def detect_face(face_file, max_results=4):\n",
        "    \"\"\"Uses the Vision API to detect faces in the given file.\n",
        "\n",
        "    Args:\n",
        "        face_file: A file-like object containing an image with faces.\n",
        "\n",
        "    Returns:\n",
        "        An array of Face objects with information about the picture.\n",
        "    \"\"\"\n",
        "    client = vision.ImageAnnotatorClient()\n",
        "\n",
        "    content = face_file.read()\n",
        "    image = types.Image(content=content)\n",
        "\n",
        "    return client.face_detection(image=image, max_results=max_results).face_annotations\n",
        "  \n",
        "\n",
        "\n",
        "def crop_faces(image_to_crop, cropped_photos_dir):\n",
        "    \"\"\"Crop faces, then saves to output_filename.\n",
        "\n",
        "    Args:\n",
        "      image_to_crop: a file containing the image with the faces.\n",
        "      cropped_photos_dir: the name of the directory \n",
        "    \"\"\"\n",
        "    \n",
        "    with open(image_to_crop, 'rb') as image:\n",
        "        faces = detect_face(image, 8)\n",
        "        print('Found {} face{}'.format(\n",
        "            len(faces), '' if len(faces) == 1 else 's'))\n",
        "        \n",
        "        \n",
        "    im = Image.open(image_to_crop)\n",
        "\n",
        "    for idx,face in enumerate(faces):\n",
        "   \n",
        "      vects = face.fd_bounding_poly.vertices\n",
        "      im2 = im.crop([vects[0].x, vects[0].y,\n",
        "                  vects[2].x - 1, vects[2].y - 1])\n",
        "    \n",
        "      original_image_name = os.path.basename(image_to_crop)\n",
        "      cropped_image_name = os.fsdecode(os.path.splitext(original_image_name)[0]) + \"_face_\" +str(idx) +\".jpg\"\n",
        "      cropped_image_path = os.path.join(os.fsencode(cropped_photos_dir),os.fsencode(cropped_image_name))\n",
        "      im2.save(cropped_image_path, 'JPEG')\n",
        "      print('Saved new image to :' ,cropped_image_path)\n",
        "    \n",
        "    \n",
        "    "
      ],
      "execution_count": 0,
      "outputs": []
    },
    {
      "metadata": {
        "id": "iZEqVw8BqXRN",
        "colab_type": "text"
      },
      "cell_type": "markdown",
      "source": [
        "### Cropping one image"
      ]
    },
    {
      "metadata": {
        "id": "TZx6fvGvqZe1",
        "colab_type": "code",
        "colab": {
          "base_uri": "https://localhost:8080/",
          "height": 70
        },
        "outputId": "80195f8d-30a4-4cf5-b018-f4eaa95bcc97"
      },
      "cell_type": "code",
      "source": [
        "path = os.fsencode('/content/drive/My Drive/Google Photos/2019/04/IMG_20190402_075133.jpg') \n",
        "filename = os.fsencode('IMG_20190402_075133.jpg')\n",
        "cropped_photos_dir = os.fsencode('/content/')\n",
        "crop_faces(path, cropped_photos_dir)"
      ],
      "execution_count": 9,
      "outputs": [
        {
          "output_type": "stream",
          "text": [
            "Found 2 faces\n",
            "Saved new image to : b'/content/IMG_20190402_075133_face_0.jpg'\n",
            "Saved new image to : b'/content/IMG_20190402_075133_face_1.jpg'\n"
          ],
          "name": "stdout"
        }
      ]
    },
    {
      "metadata": {
        "id": "emN-zpMkoybU",
        "colab_type": "text"
      },
      "cell_type": "markdown",
      "source": [
        "### Cropping 100 random images from every month of 2017"
      ]
    },
    {
      "metadata": {
        "id": "4Gccv5eozIF4",
        "colab_type": "code",
        "colab": {}
      },
      "cell_type": "code",
      "source": [
        "\n",
        "    \n",
        "    \n",
        "import random\n",
        "\n",
        "\n",
        "original_photos_dir = os.fsencode('/content/drive/My Drive/Google Photos/2017')\n",
        "cropped_photos_dir  = os.fsencode('/content/drive/My Drive/ML/AlmaZoharCrop/CropMix')\n",
        "if not os.path.exists(cropped_photos_dir):\n",
        "    os.makedirs(cropped_photos_dir)\n",
        "    \n",
        "    \n",
        "for path, dirs, files in os.walk(original_photos_dir):\n",
        "  if files:\n",
        "    try:\n",
        "      rand_files = (random.sample(files,100))\n",
        "    except:\n",
        "      continue    \n",
        "    for file in rand_files:\n",
        "      filename = os.fsdecode(file)\n",
        "      if filename.endswith(\".jpg\"):\n",
        "        image_to_crop = os.path.join(path,file)\n",
        "        print(\"Cropping \", filename)\n",
        "        crop_faces(image_to_crop,cropped_photos_dir)            "
      ],
      "execution_count": 0,
      "outputs": []
    }
  ]
}