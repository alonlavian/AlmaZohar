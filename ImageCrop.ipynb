{
  "nbformat": 4,
  "nbformat_minor": 0,
  "metadata": {
    "colab": {
      "name": "Untitled0.ipynb",
      "version": "0.3.2",
      "provenance": [],
      "collapsed_sections": [],
      "toc_visible": true,
      "include_colab_link": true
    },
    "kernelspec": {
      "name": "python3",
      "display_name": "Python 3"
    }
  },
  "cells": [
    {
      "cell_type": "markdown",
      "metadata": {
        "id": "view-in-github",
        "colab_type": "text"
      },
      "source": [
        "<a href=\"https://colab.research.google.com/github/alonlavian/AlmaZohar/blob/master/ImageCrop.ipynb\" target=\"_parent\"><img src=\"https://colab.research.google.com/assets/colab-badge.svg\" alt=\"Open In Colab\"/></a>"
      ]
    },
    {
      "metadata": {
        "id": "J7awmoAQ_6uU",
        "colab_type": "text"
      },
      "cell_type": "markdown",
      "source": [
        "# Trying to enlarge my data set using Google vision API\n",
        "\n",
        "For the following to work you'll have to setup:\n",
        "*   service account credentials - https://cloud.google.com/docs/authentication/production#obtaining_and_providing_service_account_credentials_manually\n",
        "*   google billing  - https://support.google.com/googleapi/answer/6158867?hl=en\n",
        "\n"
      ]
    },
    {
      "metadata": {
        "id": "MPbswIVOCO2d",
        "colab_type": "text"
      },
      "cell_type": "markdown",
      "source": [
        "\n",
        "1.   Install google cloud vision"
      ]
    },
    {
      "metadata": {
        "id": "xIuL863VBi9g",
        "colab_type": "code",
        "colab": {
          "base_uri": "https://localhost:8080/",
          "height": 496
        },
        "outputId": "2170bae9-e264-4e8d-ba0e-91cb994da03e"
      },
      "cell_type": "code",
      "source": [
        "!pip install --upgrade google-cloud-vision\n"
      ],
      "execution_count": 67,
      "outputs": [
        {
          "output_type": "stream",
          "text": [
            "Collecting google-cloud-vision\n",
            "\u001b[?25l  Downloading https://files.pythonhosted.org/packages/f2/bf/112a0707a425961516693ac526725bc3f51db44fc3d02998da3ee2b82ef1/google_cloud_vision-0.36.0-py2.py3-none-any.whl (383kB)\n",
            "\u001b[K    100% |████████████████████████████████| 389kB 12.6MB/s \n",
            "\u001b[?25hRequirement already satisfied, skipping upgrade: google-api-core[grpc]<2.0.0dev,>=1.6.0 in /usr/local/lib/python3.6/dist-packages (from google-cloud-vision) (1.9.0)\n",
            "Requirement already satisfied, skipping upgrade: google-auth<2.0dev,>=0.4.0 in /usr/local/lib/python3.6/dist-packages (from google-api-core[grpc]<2.0.0dev,>=1.6.0->google-cloud-vision) (1.4.2)\n",
            "Requirement already satisfied, skipping upgrade: protobuf>=3.4.0 in /usr/local/lib/python3.6/dist-packages (from google-api-core[grpc]<2.0.0dev,>=1.6.0->google-cloud-vision) (3.7.1)\n",
            "Requirement already satisfied, skipping upgrade: setuptools>=34.0.0 in /usr/local/lib/python3.6/dist-packages (from google-api-core[grpc]<2.0.0dev,>=1.6.0->google-cloud-vision) (40.9.0)\n",
            "Requirement already satisfied, skipping upgrade: six>=1.10.0 in /usr/local/lib/python3.6/dist-packages (from google-api-core[grpc]<2.0.0dev,>=1.6.0->google-cloud-vision) (1.11.0)\n",
            "Requirement already satisfied, skipping upgrade: pytz in /usr/local/lib/python3.6/dist-packages (from google-api-core[grpc]<2.0.0dev,>=1.6.0->google-cloud-vision) (2018.9)\n",
            "Requirement already satisfied, skipping upgrade: googleapis-common-protos!=1.5.4,<2.0dev,>=1.5.3 in /usr/local/lib/python3.6/dist-packages (from google-api-core[grpc]<2.0.0dev,>=1.6.0->google-cloud-vision) (1.5.9)\n",
            "Requirement already satisfied, skipping upgrade: requests<3.0.0dev,>=2.18.0 in /usr/local/lib/python3.6/dist-packages (from google-api-core[grpc]<2.0.0dev,>=1.6.0->google-cloud-vision) (2.18.4)\n",
            "Requirement already satisfied, skipping upgrade: grpcio>=1.8.2; extra == \"grpc\" in /usr/local/lib/python3.6/dist-packages (from google-api-core[grpc]<2.0.0dev,>=1.6.0->google-cloud-vision) (1.15.0)\n",
            "Requirement already satisfied, skipping upgrade: cachetools>=2.0.0 in /usr/local/lib/python3.6/dist-packages (from google-auth<2.0dev,>=0.4.0->google-api-core[grpc]<2.0.0dev,>=1.6.0->google-cloud-vision) (3.1.0)\n",
            "Requirement already satisfied, skipping upgrade: rsa>=3.1.4 in /usr/local/lib/python3.6/dist-packages (from google-auth<2.0dev,>=0.4.0->google-api-core[grpc]<2.0.0dev,>=1.6.0->google-cloud-vision) (4.0)\n",
            "Requirement already satisfied, skipping upgrade: pyasn1-modules>=0.2.1 in /usr/local/lib/python3.6/dist-packages (from google-auth<2.0dev,>=0.4.0->google-api-core[grpc]<2.0.0dev,>=1.6.0->google-cloud-vision) (0.2.4)\n",
            "Requirement already satisfied, skipping upgrade: urllib3<1.23,>=1.21.1 in /usr/local/lib/python3.6/dist-packages (from requests<3.0.0dev,>=2.18.0->google-api-core[grpc]<2.0.0dev,>=1.6.0->google-cloud-vision) (1.22)\n",
            "Requirement already satisfied, skipping upgrade: idna<2.7,>=2.5 in /usr/local/lib/python3.6/dist-packages (from requests<3.0.0dev,>=2.18.0->google-api-core[grpc]<2.0.0dev,>=1.6.0->google-cloud-vision) (2.6)\n",
            "Requirement already satisfied, skipping upgrade: chardet<3.1.0,>=3.0.2 in /usr/local/lib/python3.6/dist-packages (from requests<3.0.0dev,>=2.18.0->google-api-core[grpc]<2.0.0dev,>=1.6.0->google-cloud-vision) (3.0.4)\n",
            "Requirement already satisfied, skipping upgrade: certifi>=2017.4.17 in /usr/local/lib/python3.6/dist-packages (from requests<3.0.0dev,>=2.18.0->google-api-core[grpc]<2.0.0dev,>=1.6.0->google-cloud-vision) (2019.3.9)\n",
            "Requirement already satisfied, skipping upgrade: pyasn1>=0.1.3 in /usr/local/lib/python3.6/dist-packages (from rsa>=3.1.4->google-auth<2.0dev,>=0.4.0->google-api-core[grpc]<2.0.0dev,>=1.6.0->google-cloud-vision) (0.4.5)\n",
            "Installing collected packages: google-cloud-vision\n",
            "Successfully installed google-cloud-vision-0.36.0\n"
          ],
          "name": "stdout"
        },
        {
          "output_type": "display_data",
          "data": {
            "application/vnd.colab-display-data+json": {
              "pip_warning": {
                "packages": [
                  "google"
                ]
              }
            }
          },
          "metadata": {
            "tags": []
          }
        }
      ]
    },
    {
      "metadata": {
        "id": "CClFk8LYCSrc",
        "colab_type": "text"
      },
      "cell_type": "markdown",
      "source": [
        "\n",
        "2.   Mount Drive"
      ]
    },
    {
      "metadata": {
        "id": "v5eDbzVMCU4t",
        "colab_type": "code",
        "outputId": "44940320-135e-4a0e-f0dc-ddb81ed78f2a",
        "colab": {
          "base_uri": "https://localhost:8080/",
          "height": 122
        }
      },
      "cell_type": "code",
      "source": [
        "import os \n",
        "from google.colab import drive\n",
        "drive.mount('/content/drive/')"
      ],
      "execution_count": 0,
      "outputs": [
        {
          "output_type": "stream",
          "text": [
            "Go to this URL in a browser: https://accounts.google.com/o/oauth2/auth?client_id=947318989803-6bn6qk8qdgf4n4g3pfee6491hc0brc4i.apps.googleusercontent.com&redirect_uri=urn%3Aietf%3Awg%3Aoauth%3A2.0%3Aoob&scope=email%20https%3A%2F%2Fwww.googleapis.com%2Fauth%2Fdocs.test%20https%3A%2F%2Fwww.googleapis.com%2Fauth%2Fdrive%20https%3A%2F%2Fwww.googleapis.com%2Fauth%2Fdrive.photos.readonly%20https%3A%2F%2Fwww.googleapis.com%2Fauth%2Fpeopleapi.readonly&response_type=code\n",
            "\n",
            "Enter your authorization code:\n",
            "··········\n",
            "Mounted at /content/drive/\n"
          ],
          "name": "stdout"
        }
      ]
    },
    {
      "metadata": {
        "id": "FBn05nzxevPE",
        "colab_type": "text"
      },
      "cell_type": "markdown",
      "source": [
        "3. Add vision application credentilas to env.\n",
        "\n",
        "    https://cloud.google.com/docs/authentication/production#obtaining_and_providing_service_account_credentials_manually"
      ]
    },
    {
      "metadata": {
        "id": "v6Mjv6dC3VHH",
        "colab_type": "code",
        "colab": {}
      },
      "cell_type": "code",
      "source": [
        "os.environ[\"GOOGLE_APPLICATION_CREDENTIALS\"]=\"/content/drive/My Drive/ML/Misc/vision_service_account.json\""
      ],
      "execution_count": 0,
      "outputs": []
    },
    {
      "metadata": {
        "id": "gRS1X57mfGhU",
        "colab_type": "text"
      },
      "cell_type": "markdown",
      "source": [
        "4. Cropping code\n",
        "    https://cloud.google.com/vision/docs/crop-hints\n"
      ]
    },
    {
      "metadata": {
        "id": "OQr9SurpALbX",
        "colab_type": "code",
        "colab": {}
      },
      "cell_type": "code",
      "source": [
        "import argparse\n",
        "import io\n",
        "\n",
        "from google.auth import compute_engine\n",
        "from google.cloud import vision\n",
        "from google.cloud.vision import types\n",
        "from PIL import Image, ImageDraw\n",
        "\n",
        "\n",
        "def get_crop_hint(path):\n",
        "    \"\"\"Detect crop hints on a single image and return the first result.\"\"\"\n",
        "    client = vision.ImageAnnotatorClient()\n",
        "\n",
        "    with io.open(path, 'rb') as image_file:\n",
        "        content = image_file.read()\n",
        "\n",
        "    image = types.Image(content=content)\n",
        "\n",
        "    crop_hints_params = types.CropHintsParams(aspect_ratios=[1.77])\n",
        "    image_context = types.ImageContext(crop_hints_params=crop_hints_params)\n",
        "\n",
        "    response = client.crop_hints(image=image, image_context=image_context)\n",
        "    hints = response.crop_hints_annotation.crop_hints\n",
        "\n",
        "    # Get bounds for the first crop hint using an aspect ratio of 1.77.\n",
        "    vertices = hints[0].bounding_poly.vertices\n",
        "\n",
        "    return vertices\n",
        "\n",
        "\n",
        "# def draw_hint(image_file):\n",
        "#     \"\"\"Draw a border around the image using the hints in the vector list.\"\"\"\n",
        "#     vects = get_crop_hint(image_file)\n",
        "\n",
        "#     im = Image.open(image_file)\n",
        "#     draw = ImageDraw.Draw(im)\n",
        "#     draw.polygon([\n",
        "#         vects[0].x, vects[0].y,\n",
        "#         vects[1].x, vects[1].y,\n",
        "#         vects[2].x, vects[2].y,\n",
        "#         vects[3].x, vects[3].y], None, 'red')\n",
        "#     im.save('output-hint.jpg', 'JPEG')\n",
        "#     print('Saved new image to output-crop.jpg')\n",
        "\n",
        "#         crop(path,filename, cropped_photos_dir)\n",
        "\n",
        "def crop_to_hint(path,filename, cropped_photos_dir):\n",
        "    \"\"\"Crop the image using the hints in the vector list.\"\"\"\n",
        "    image_file = os.path.join(path,os.fsencode(filename))\n",
        "    vects = get_crop_hint(image_file)\n",
        "\n",
        "    im = Image.open(image_file)\n",
        "    im2 = im.crop([vects[0].x, vects[0].y,\n",
        "                  vects[2].x - 1, vects[2].y - 1])\n",
        "    \n",
        "    cropped_image_name = \"cropped_\" + filename\n",
        "    cropped_image_path = os.path.join(cropped_photos_dir,os.fsencode(cropped_image_name))\n",
        "    im2.save(cropped_image_path, 'JPEG')\n",
        "    print('Saved new image to output-crop.jpg')\n",
        "\n",
        "\n",
        "# if __name__ == '__main__':\n",
        "#     parser = argparse.ArgumentParser()\n",
        "#     parser.add_argument('image_file', help='The image you\\'d like to crop.')\n",
        "#     parser.add_argument('mode', help='Set to \"crop\" or \"draw\".')\n",
        "#     args = parser.parse_args()\n",
        "\n",
        "#     parser = argparse.ArgumentParser()\n",
        "\n",
        "#     if args.mode == 'crop':\n",
        "#         crop_to_hint(args.image_file)\n",
        "#     elif args.mode == 'draw':\n",
        "#         draw_hint(args.image_file)"
      ],
      "execution_count": 0,
      "outputs": []
    },
    {
      "metadata": {
        "id": "UojDqQjnCn9e",
        "colab_type": "text"
      },
      "cell_type": "markdown",
      "source": [
        "Try to crop"
      ]
    },
    {
      "metadata": {
        "id": "LMUPlFeUCpxx",
        "colab_type": "code",
        "outputId": "dd8c4b26-dc76-4d5f-c07c-5db5b6bc4e03",
        "colab": {
          "base_uri": "https://localhost:8080/",
          "height": 34
        }
      },
      "cell_type": "code",
      "source": [
        "\n",
        "\n",
        "\n",
        "\n",
        "crop_to_hint('/content/drive/My Drive/Google Photos/2019/04/IMG_20190402_075133.jpg')"
      ],
      "execution_count": 0,
      "outputs": [
        {
          "output_type": "stream",
          "text": [
            "Saved new image to output-crop.jpg\n"
          ],
          "name": "stdout"
        }
      ]
    },
    {
      "metadata": {
        "id": "fmSFQ3N66Bry",
        "colab_type": "code",
        "outputId": "bdf2c680-14e1-438c-e641-64b85203300e",
        "colab": {
          "base_uri": "https://localhost:8080/",
          "height": 153
        }
      },
      "cell_type": "code",
      "source": [
        "import random,os\n",
        "\n",
        "original_photos_dir = os.fsencode('/content/drive/My Drive/Google Photos/2019')\n",
        "cropped_photos_dir  = os.fsencode('/content/drive/My Drive/ML/AlmaZoharCrop/CropMix')\n",
        "if not os.path.exists(cropped_photos_dir):\n",
        "    os.makedirs(cropped_photos_dir)\n",
        "    \n",
        "    \n",
        "for path, dirs, files in os.walk(original_photos_dir):\n",
        "  if files:\n",
        "    rand_files = (random.sample(files,1))\n",
        "    for file in rand_files:\n",
        "      filename = os.fsdecode(file)\n",
        "      if filename.endswith(\".jpg\"):\n",
        "#         image_to_crop = os.path.join(path,file_to_crop)\n",
        "        print(\"Cropping \", filename)\n",
        "        crop_to_hint(path,filename, cropped_photos_dir)\n",
        "        "
      ],
      "execution_count": 8,
      "outputs": [
        {
          "output_type": "stream",
          "text": [
            "Cropping  IMG_20190131_175203.jpg\n",
            "Saved new image to output-crop.jpg\n",
            "Cropping  IMG_20190208_132441.jpg\n",
            "Saved new image to output-crop.jpg\n",
            "Cropping  IMG_20190322_125150.jpg\n",
            "Saved new image to output-crop.jpg\n",
            "Cropping  IMG_20190409_130236.jpg\n",
            "Saved new image to output-crop.jpg\n"
          ],
          "name": "stdout"
        }
      ]
    }
  ]
}