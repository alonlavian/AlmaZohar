{
  "nbformat": 4,
  "nbformat_minor": 0,
  "metadata": {
    "colab": {
      "name": "Untitled",
      "version": "0.3.2",
      "provenance": [],
      "collapsed_sections": [],
      "toc_visible": true,
      "include_colab_link": true
    },
    "kernelspec": {
      "name": "python3",
      "display_name": "Python 3"
    },
    "accelerator": "GPU"
  },
  "cells": [
    {
      "cell_type": "markdown",
      "metadata": {
        "id": "view-in-github",
        "colab_type": "text"
      },
      "source": [
        "<a href=\"https://colab.research.google.com/github/alonlavian/AlmaZohar/blob/master/ImageCrop.ipynb\" target=\"_parent\"><img src=\"https://colab.research.google.com/assets/colab-badge.svg\" alt=\"Open In Colab\"/></a>"
      ]
    },
    {
      "metadata": {
        "id": "J7awmoAQ_6uU",
        "colab_type": "text"
      },
      "cell_type": "markdown",
      "source": [
        "# Trying to enlarge my data set using Google vision API\n",
        "\n",
        "For the following to work you'll have to setup:\n",
        "*   service account credentials - https://cloud.google.com/docs/authentication/production#obtaining_and_providing_service_account_credentials_manually\n",
        "*   google billing  - https://support.google.com/googleapi/answer/6158867?hl=en\n",
        "\n"
      ]
    },
    {
      "metadata": {
        "id": "MPbswIVOCO2d",
        "colab_type": "text"
      },
      "cell_type": "markdown",
      "source": [
        "\n",
        "1.   Install google cloud vision"
      ]
    },
    {
      "metadata": {
        "id": "xIuL863VBi9g",
        "colab_type": "code",
        "colab": {}
      },
      "cell_type": "code",
      "source": [
        "!pip install --upgrade google-cloud-vision\n"
      ],
      "execution_count": 0,
      "outputs": []
    },
    {
      "metadata": {
        "id": "CClFk8LYCSrc",
        "colab_type": "text"
      },
      "cell_type": "markdown",
      "source": [
        "\n",
        "2.   Mount Drive"
      ]
    },
    {
      "metadata": {
        "id": "v5eDbzVMCU4t",
        "colab_type": "code",
        "outputId": "44940320-135e-4a0e-f0dc-ddb81ed78f2a",
        "colab": {
          "base_uri": "https://localhost:8080/",
          "height": 122
        }
      },
      "cell_type": "code",
      "source": [
        "import os \n",
        "from google.colab import drive\n",
        "drive.mount('/content/drive/')"
      ],
      "execution_count": 0,
      "outputs": [
        {
          "output_type": "stream",
          "text": [
            "Go to this URL in a browser: https://accounts.google.com/o/oauth2/auth?client_id=947318989803-6bn6qk8qdgf4n4g3pfee6491hc0brc4i.apps.googleusercontent.com&redirect_uri=urn%3Aietf%3Awg%3Aoauth%3A2.0%3Aoob&scope=email%20https%3A%2F%2Fwww.googleapis.com%2Fauth%2Fdocs.test%20https%3A%2F%2Fwww.googleapis.com%2Fauth%2Fdrive%20https%3A%2F%2Fwww.googleapis.com%2Fauth%2Fdrive.photos.readonly%20https%3A%2F%2Fwww.googleapis.com%2Fauth%2Fpeopleapi.readonly&response_type=code\n",
            "\n",
            "Enter your authorization code:\n",
            "··········\n",
            "Mounted at /content/drive/\n"
          ],
          "name": "stdout"
        }
      ]
    },
    {
      "metadata": {
        "id": "FBn05nzxevPE",
        "colab_type": "text"
      },
      "cell_type": "markdown",
      "source": [
        "3. Add vision application credentilas to env.\n",
        "\n",
        "    https://cloud.google.com/docs/authentication/production#obtaining_and_providing_service_account_credentials_manually"
      ]
    },
    {
      "metadata": {
        "id": "v6Mjv6dC3VHH",
        "colab_type": "code",
        "colab": {}
      },
      "cell_type": "code",
      "source": [
        "import os\n",
        "os.environ[\"GOOGLE_APPLICATION_CREDENTIALS\"]=\"/content/drive/My Drive/ML/Misc/vision_service_account.json\"\n"
      ],
      "execution_count": 0,
      "outputs": []
    },
    {
      "metadata": {
        "id": "gRS1X57mfGhU",
        "colab_type": "text"
      },
      "cell_type": "markdown",
      "source": [
        "4. Cropping code\n",
        "    https://cloud.google.com/vision/docs/crop-hints\n"
      ]
    },
    {
      "metadata": {
        "id": "OQr9SurpALbX",
        "colab_type": "code",
        "colab": {}
      },
      "cell_type": "code",
      "source": [
        "import argparse\n",
        "import io\n",
        "\n",
        "from google.auth import compute_engine\n",
        "from google.cloud import vision\n",
        "from google.cloud.vision import types\n",
        "from PIL import Image, ImageDraw\n",
        "\n",
        "\n",
        "def get_crop_hint(path):\n",
        "    \"\"\"Detect crop hints on a single image and return the first result.\"\"\"\n",
        "    client = vision.ImageAnnotatorClient()\n",
        "\n",
        "    with io.open(path, 'rb') as image_file:\n",
        "        content = image_file.read()\n",
        "\n",
        "    image = types.Image(content=content)\n",
        "\n",
        "    crop_hints_params = types.CropHintsParams(aspect_ratios=[1.77])\n",
        "    image_context = types.ImageContext(crop_hints_params=crop_hints_params)\n",
        "\n",
        "    response = client.crop_hints(image=image, image_context=image_context)\n",
        "    hints = response.crop_hints_annotation.crop_hints\n",
        "\n",
        "    # Get bounds for the first crop hint using an aspect ratio of 1.77.\n",
        "    vertices = hints[0].bounding_poly.vertices\n",
        "\n",
        "    return vertices\n",
        "\n",
        "\n",
        "def draw_hint(image_file):\n",
        "    \"\"\"Draw a border around the image using the hints in the vector list.\"\"\"\n",
        "    vects = get_crop_hint(image_file)\n",
        "\n",
        "    im = Image.open(image_file)\n",
        "    draw = ImageDraw.Draw(im)\n",
        "    draw.polygon([\n",
        "        vects[0].x, vects[0].y,\n",
        "        vects[1].x, vects[1].y,\n",
        "        vects[2].x, vects[2].y,\n",
        "        vects[3].x, vects[3].y], None, 'red')\n",
        "    im.save('output-hint.jpg', 'JPEG')\n",
        "    print('Saved new image to output-crop.jpg')\n",
        "\n",
        "\n",
        "def crop_to_hint(image_file):\n",
        "    \"\"\"Crop the image using the hints in the vector list.\"\"\"\n",
        "    vects = get_crop_hint(image_file)\n",
        "\n",
        "    im = Image.open(image_file)\n",
        "    im2 = im.crop([vects[0].x, vects[0].y,\n",
        "                  vects[2].x - 1, vects[2].y - 1])\n",
        "    im2.save('output-crop.jpg', 'JPEG')\n",
        "    print('Saved new image to output-crop.jpg')\n",
        "\n",
        "\n",
        "# if __name__ == '__main__':\n",
        "#     parser = argparse.ArgumentParser()\n",
        "#     parser.add_argument('image_file', help='The image you\\'d like to crop.')\n",
        "#     parser.add_argument('mode', help='Set to \"crop\" or \"draw\".')\n",
        "#     args = parser.parse_args()\n",
        "\n",
        "#     parser = argparse.ArgumentParser()\n",
        "\n",
        "#     if args.mode == 'crop':\n",
        "#         crop_to_hint(args.image_file)\n",
        "#     elif args.mode == 'draw':\n",
        "#         draw_hint(args.image_file)"
      ],
      "execution_count": 0,
      "outputs": []
    },
    {
      "metadata": {
        "id": "UojDqQjnCn9e",
        "colab_type": "text"
      },
      "cell_type": "markdown",
      "source": [
        "Try to crop"
      ]
    },
    {
      "metadata": {
        "id": "LMUPlFeUCpxx",
        "colab_type": "code",
        "outputId": "dd8c4b26-dc76-4d5f-c07c-5db5b6bc4e03",
        "colab": {
          "base_uri": "https://localhost:8080/",
          "height": 34
        }
      },
      "cell_type": "code",
      "source": [
        "\n",
        "\n",
        "\n",
        "\n",
        "crop_to_hint('/content/drive/My Drive/Google Photos/2019/04/IMG_20190402_075133.jpg')"
      ],
      "execution_count": 0,
      "outputs": [
        {
          "output_type": "stream",
          "text": [
            "Saved new image to output-crop.jpg\n"
          ],
          "name": "stdout"
        }
      ]
    },
    {
      "metadata": {
        "id": "fmSFQ3N66Bry",
        "colab_type": "code",
        "outputId": "3de43ea1-0d9d-4f10-a624-44a3cfd20040",
        "colab": {
          "base_uri": "https://localhost:8080/",
          "height": 1343
        }
      },
      "cell_type": "code",
      "source": [
        "!pwd\n",
        "\n",
        "import os, random\n",
        "\n",
        "directory = os.fsencode('/content/drive/My Drive/Google Photos/2018/')\n",
        "\n",
        "# for file in os.listdir(directory):\n",
        "#      filename = os.fsdecode(file)\n",
        "#      if filename.endswith(\".jpg\") : \n",
        "# #         print(directory)\n",
        "# #         print(file)\n",
        "#         print(directory+file)\n",
        "#         continue\n",
        "#      else:\n",
        "#          continue\n",
        "\n",
        "\n",
        "import os\n",
        "random.choice(os.listdir(directory)) #change dir name to whatever\n",
        "\n",
        "\n",
        "for path, dirs, files in os.walk(directory):\n",
        "#       print(files, \"\\n\", dirs,\"\\n\", path)\n",
        "      print(\"\\n\\n\")\n",
        "      print(len(files),\"\\n\")\n",
        "      if files:\n",
        "        print(len(random.choice(files)))\n",
        "            "
      ],
      "execution_count": 0,
      "outputs": [
        {
          "output_type": "stream",
          "text": [
            "/content\n",
            "\n",
            "\n",
            "\n",
            "0 \n",
            "\n",
            "\n",
            "\n",
            "\n",
            "97 \n",
            "\n",
            "38\n",
            "\n",
            "\n",
            "\n",
            "176 \n",
            "\n",
            "23\n",
            "\n",
            "\n",
            "\n",
            "78 \n",
            "\n",
            "23\n",
            "\n",
            "\n",
            "\n",
            "248 \n",
            "\n",
            "23\n",
            "\n",
            "\n",
            "\n",
            "87 \n",
            "\n",
            "23\n",
            "\n",
            "\n",
            "\n",
            "275 \n",
            "\n",
            "23\n",
            "\n",
            "\n",
            "\n",
            "126 \n",
            "\n",
            "23\n",
            "\n",
            "\n",
            "\n",
            "266 \n",
            "\n",
            "23\n",
            "\n",
            "\n",
            "\n",
            "303 \n",
            "\n",
            "23\n",
            "\n",
            "\n",
            "\n",
            "247 \n",
            "\n",
            "23\n",
            "\n",
            "\n",
            "\n",
            "56 \n",
            "\n",
            "31\n",
            "\n",
            "\n",
            "\n",
            "109 \n",
            "\n",
            "23\n"
          ],
          "name": "stdout"
        }
      ]
    }
  ]
}